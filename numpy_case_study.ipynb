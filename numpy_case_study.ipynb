{
 "cells": [
  {
   "cell_type": "markdown",
   "id": "be31320b-7fdd-400f-b33e-ccdbd4b86149",
   "metadata": {},
   "source": [
    "# Numpy Case Study"
   ]
  },
  {
   "cell_type": "code",
   "execution_count": 1,
   "id": "0dfa25cc-815b-427f-95e5-4de4cefd6264",
   "metadata": {},
   "outputs": [],
   "source": [
    "import numpy as np\n",
    "import pandas as pd\n",
    "import warnings"
   ]
  },
  {
   "cell_type": "code",
   "execution_count": 2,
   "id": "dfd0a6dc-6c9e-4327-946e-381189f2a3a8",
   "metadata": {},
   "outputs": [],
   "source": [
    "warnings.filterwarnings('ignore')"
   ]
  },
  {
   "cell_type": "markdown",
   "id": "521edb47-9496-41a6-b3de-c23aa2c23f4e",
   "metadata": {},
   "source": [
    "## 1. Load and visualize the dataset"
   ]
  },
  {
   "cell_type": "code",
   "execution_count": null,
   "id": "2c87f253-e05b-464f-820e-bb25b4a55cbf",
   "metadata": {},
   "outputs": [
    {
     "data": {
      "text/html": [
       "<div>\n",
       "<style scoped>\n",
       "    .dataframe tbody tr th:only-of-type {\n",
       "        vertical-align: middle;\n",
       "    }\n",
       "\n",
       "    .dataframe tbody tr th {\n",
       "        vertical-align: top;\n",
       "    }\n",
       "\n",
       "    .dataframe thead th {\n",
       "        text-align: right;\n",
       "    }\n",
       "</style>\n",
       "<table border=\"1\" class=\"dataframe\">\n",
       "  <thead>\n",
       "    <tr style=\"text-align: right;\">\n",
       "      <th></th>\n",
       "      <th>date</th>\n",
       "      <th>step_count</th>\n",
       "      <th>mood</th>\n",
       "      <th>calories_burned</th>\n",
       "      <th>hours_of_sleep</th>\n",
       "      <th>active</th>\n",
       "    </tr>\n",
       "  </thead>\n",
       "  <tbody>\n",
       "    <tr>\n",
       "      <th>0</th>\n",
       "      <td>06-10-2017</td>\n",
       "      <td>5464</td>\n",
       "      <td>Neutral</td>\n",
       "      <td>181</td>\n",
       "      <td>5</td>\n",
       "      <td>Inactive</td>\n",
       "    </tr>\n",
       "    <tr>\n",
       "      <th>1</th>\n",
       "      <td>07-10-2017</td>\n",
       "      <td>6041</td>\n",
       "      <td>Sad</td>\n",
       "      <td>197</td>\n",
       "      <td>8</td>\n",
       "      <td>Inactive</td>\n",
       "    </tr>\n",
       "    <tr>\n",
       "      <th>2</th>\n",
       "      <td>08-10-2017</td>\n",
       "      <td>25</td>\n",
       "      <td>Sad</td>\n",
       "      <td>0</td>\n",
       "      <td>5</td>\n",
       "      <td>Inactive</td>\n",
       "    </tr>\n",
       "    <tr>\n",
       "      <th>3</th>\n",
       "      <td>09-10-2017</td>\n",
       "      <td>5461</td>\n",
       "      <td>Sad</td>\n",
       "      <td>174</td>\n",
       "      <td>4</td>\n",
       "      <td>Inactive</td>\n",
       "    </tr>\n",
       "    <tr>\n",
       "      <th>4</th>\n",
       "      <td>10-10-2017</td>\n",
       "      <td>6915</td>\n",
       "      <td>Neutral</td>\n",
       "      <td>223</td>\n",
       "      <td>5</td>\n",
       "      <td>Active</td>\n",
       "    </tr>\n",
       "    <tr>\n",
       "      <th>...</th>\n",
       "      <td>...</td>\n",
       "      <td>...</td>\n",
       "      <td>...</td>\n",
       "      <td>...</td>\n",
       "      <td>...</td>\n",
       "      <td>...</td>\n",
       "    </tr>\n",
       "    <tr>\n",
       "      <th>91</th>\n",
       "      <td>05-01-2018</td>\n",
       "      <td>133</td>\n",
       "      <td>Sad</td>\n",
       "      <td>4</td>\n",
       "      <td>2</td>\n",
       "      <td>Inactive</td>\n",
       "    </tr>\n",
       "    <tr>\n",
       "      <th>92</th>\n",
       "      <td>06-01-2018</td>\n",
       "      <td>153</td>\n",
       "      <td>Happy</td>\n",
       "      <td>0</td>\n",
       "      <td>8</td>\n",
       "      <td>Inactive</td>\n",
       "    </tr>\n",
       "    <tr>\n",
       "      <th>93</th>\n",
       "      <td>07-01-2018</td>\n",
       "      <td>500</td>\n",
       "      <td>Neutral</td>\n",
       "      <td>0</td>\n",
       "      <td>5</td>\n",
       "      <td>Active</td>\n",
       "    </tr>\n",
       "    <tr>\n",
       "      <th>94</th>\n",
       "      <td>08-01-2018</td>\n",
       "      <td>2127</td>\n",
       "      <td>Neutral</td>\n",
       "      <td>0</td>\n",
       "      <td>5</td>\n",
       "      <td>Inactive</td>\n",
       "    </tr>\n",
       "    <tr>\n",
       "      <th>95</th>\n",
       "      <td>09-01-2018</td>\n",
       "      <td>2203</td>\n",
       "      <td>Happy</td>\n",
       "      <td>0</td>\n",
       "      <td>5</td>\n",
       "      <td>Active</td>\n",
       "    </tr>\n",
       "  </tbody>\n",
       "</table>\n",
       "<p>96 rows × 6 columns</p>\n",
       "</div>"
      ],
      "text/plain": [
       "          date step_count     mood calories_burned hours_of_sleep    active\n",
       "0   06-10-2017       5464  Neutral             181              5  Inactive\n",
       "1   07-10-2017       6041      Sad             197              8  Inactive\n",
       "2   08-10-2017         25      Sad               0              5  Inactive\n",
       "3   09-10-2017       5461      Sad             174              4  Inactive\n",
       "4   10-10-2017       6915  Neutral             223              5    Active\n",
       "..         ...        ...      ...             ...            ...       ...\n",
       "91  05-01-2018        133      Sad               4              2  Inactive\n",
       "92  06-01-2018        153    Happy               0              8  Inactive\n",
       "93  07-01-2018        500  Neutral               0              5    Active\n",
       "94  08-01-2018       2127  Neutral               0              5  Inactive\n",
       "95  09-01-2018       2203    Happy               0              5    Active\n",
       "\n",
       "[96 rows x 6 columns]"
      ]
     },
     "execution_count": 3,
     "metadata": {},
     "output_type": "execute_result"
    }
   ],
   "source": [
    "df = np.loadtxt('fit.txt',dtype=str)\n",
    "\n",
    "# Visualize the dataset\n",
    "d = pd.DataFrame(df, columns=['date','step_count','mood','calories_burned','hours_of_sleep','active'])\n",
    "d"
   ]
  },
  {
   "cell_type": "code",
   "execution_count": 4,
   "id": "7d070fc4-f01a-4d7e-93c7-258ae42b0120",
   "metadata": {},
   "outputs": [],
   "source": [
    "calories_burned\t= np.array(df[:,3].astype(int))\n",
    "hours_of_sleep\t= np.array(df[:,4].astype(int))\n",
    "step_count = np.array(df[:,1].astype(int))\n",
    "active = np.array(df[:,5])\n",
    "date = np.array(df[:,0])\n",
    "mood = np.array(df[:,2])"
   ]
  },
  {
   "cell_type": "markdown",
   "id": "dfc488c3-0c97-4394-a696-abe3ad2e47cf",
   "metadata": {},
   "source": [
    "## 2. What is the average step count across the dasaset?"
   ]
  },
  {
   "cell_type": "code",
   "execution_count": 5,
   "id": "61d3763d-dac6-44ad-ab4e-5c90d73e7188",
   "metadata": {},
   "outputs": [
    {
     "name": "stdout",
     "output_type": "stream",
     "text": [
      "Average step count across the dataset:  2935.9375\n"
     ]
    }
   ],
   "source": [
    "ave_step_count = step_count.mean()\n",
    "print('Average step count across the dataset: ',ave_step_count)"
   ]
  },
  {
   "cell_type": "markdown",
   "id": "b5bef79c-6e2b-49da-991a-843b0232eaf1",
   "metadata": {},
   "source": [
    "## 3. On which date did the person burn the most calories, and what was their mood on that day?"
   ]
  },
  {
   "cell_type": "code",
   "execution_count": 6,
   "id": "9ada1313-7510-4319-a53b-c88d741e37f4",
   "metadata": {},
   "outputs": [
    {
     "name": "stdout",
     "output_type": "stream",
     "text": [
      "On \"14-12-2017\" the person burnt \"243\" most calories and their mood was \"Happy\"\n"
     ]
    }
   ],
   "source": [
    "max_calories = np.max(calories_burned)\n",
    "max_cal_indx = np.argmax(calories_burned)\n",
    "mood_ = mood[max_cal_indx]\n",
    "date_ = date[max_cal_indx]\n",
    "print(f'On \"{date_}\" the person burnt \"{max_calories}\" most calories and their mood was \"{mood_}\"')"
   ]
  },
  {
   "cell_type": "markdown",
   "id": "e3e0ef6e-84f8-4974-becf-b0aae14e2571",
   "metadata": {},
   "source": [
    "## 4. How many days does the dataset show the person being \"Active\" vs. \"Inactive\"?"
   ]
  },
  {
   "cell_type": "code",
   "execution_count": 7,
   "id": "875c8543-37f4-4ecb-9395-199adc06814e",
   "metadata": {},
   "outputs": [
    {
     "name": "stdout",
     "output_type": "stream",
     "text": [
      "No. of days the person being \"Active\" :  42\n",
      "No. of days the person being \"Inactive\" :  54\n"
     ]
    }
   ],
   "source": [
    "active_day = active[active == 'Active'].size\n",
    "print('No. of days the person being \"Active\" : ',active_day)\n",
    "inactive_day = active[active == 'Inactive'].size\n",
    "print('No. of days the person being \"Inactive\" : ',inactive_day)"
   ]
  },
  {
   "cell_type": "markdown",
   "id": "5ad4e77b-49ea-46b9-a94b-55efd3ed9aa9",
   "metadata": {},
   "source": [
    "## 5. Which mood is associated with the highest average calories burned?"
   ]
  },
  {
   "cell_type": "code",
   "execution_count": 8,
   "id": "6634a800-7a73-410f-a60b-1dd95a02c37b",
   "metadata": {},
   "outputs": [
    {
     "name": "stdout",
     "output_type": "stream",
     "text": [
      "\"Happy\" mood is associated with \"108.55\" highest average calories burned\n"
     ]
    }
   ],
   "source": [
    "# Created an array of mood and calories_burned\n",
    "mood_cal = np.array(df[:,2:4]) \n",
    "\n",
    "# Created an array as per different mood\n",
    "sad_ = mood_cal[mood_cal[:,0] == 'Sad']\n",
    "happy_ = mood_cal[mood_cal[:,0] == 'Happy']\n",
    "neutral_ = mood_cal[mood_cal[:,0] == 'Neutral']\n",
    "\n",
    "# Find average calories_burned of each mood\n",
    "sad_ave = sad_[:,1].astype(int).mean()\n",
    "happy_ave = happy_[:,1].astype(int).mean()\n",
    "neutral_ave = neutral_[:,1].astype(int).mean()\n",
    "\n",
    "# Created an array (mood , average calories_burned)\n",
    "mood_ave_cal = np.array(['Sad', sad_ave, 'Happy', happy_ave, 'Neutral', neutral_ave]).reshape(3,2)\n",
    "\n",
    "# Find max average calories_burned\n",
    "max_ave = mood_ave_cal[:,-1].astype(float).max()\n",
    "\n",
    "# Find index of max average calories_burned\n",
    "ind = np.argmax(mood_ave_cal[:,-1].astype(float))\n",
    "\n",
    "# Find mood of max average calories_burned\n",
    "mood_ind = mood_ave_cal[ind,0]\n",
    "\n",
    "# Print the mood which is associated with the highest average calories burned\n",
    "print(f'\"{mood_ind}\" mood is associated with \"{max_ave}\" highest average calories burned')"
   ]
  }
 ],
 "metadata": {
  "kernelspec": {
   "display_name": "Python 3 (ipykernel)",
   "language": "python",
   "name": "python3"
  },
  "language_info": {
   "codemirror_mode": {
    "name": "ipython",
    "version": 3
   },
   "file_extension": ".py",
   "mimetype": "text/x-python",
   "name": "python",
   "nbconvert_exporter": "python",
   "pygments_lexer": "ipython3",
   "version": "3.12.5"
  }
 },
 "nbformat": 4,
 "nbformat_minor": 5
}
